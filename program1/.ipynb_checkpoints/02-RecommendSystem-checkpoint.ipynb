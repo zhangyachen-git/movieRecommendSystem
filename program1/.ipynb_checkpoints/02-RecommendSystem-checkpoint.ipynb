{
 "cells": [
  {
   "cell_type": "markdown",
   "metadata": {},
   "source": [
    "# 推荐系统"
   ]
  },
  {
   "cell_type": "code",
   "execution_count": 1,
   "metadata": {
    "ExecuteTime": {
     "end_time": "2019-07-24T06:14:22.768345Z",
     "start_time": "2019-07-24T06:14:21.010429Z"
    }
   },
   "outputs": [],
   "source": [
    "import pandas as pd\n",
    "from math import pow, sqrt"
   ]
  },
  {
   "cell_type": "markdown",
   "metadata": {},
   "source": [
    "## 用字典存放所得数据"
   ]
  },
  {
   "cell_type": "code",
   "execution_count": 2,
   "metadata": {
    "ExecuteTime": {
     "end_time": "2019-07-24T06:14:23.032183Z",
     "start_time": "2019-07-24T06:14:22.771343Z"
    }
   },
   "outputs": [],
   "source": [
    "file = open('./output/merged.csv', 'r', encoding='utf-8')  # 记得读取文件时加‘r’， encoding='UTF-8'\n",
    "# 读取data.csv中每行中除了名字的数据\n",
    "data = {}  # 存放每位用户评论的电影和评分\n",
    "for line in file.readlines():\n",
    "    # 注意这里不是readline()\n",
    "    # print(line)\n",
    "    line = line.strip().split(',')\n",
    "    # 如果字典中没有某位用户，则使用用户ID来创建这位用户\n",
    "    if not line[0] in data.keys():\n",
    "        data[line[0]] = {line[3]: line[1]}\n",
    "    # 否则直接添加以该用户ID为key字典中\n",
    "    else:\n",
    "        data[line[0]][line[3]] = line[1]"
   ]
  },
  {
   "cell_type": "markdown",
   "metadata": {},
   "source": [
    "## 计算两个用户的相似度"
   ]
  },
  {
   "cell_type": "code",
   "execution_count": 3,
   "metadata": {
    "ExecuteTime": {
     "end_time": "2019-07-24T06:14:23.046175Z",
     "start_time": "2019-07-24T06:14:23.035180Z"
    }
   },
   "outputs": [],
   "source": [
    "def Euclidean(user1, user2):\n",
    "    # 取出两位用户评论过的电影和评分\n",
    "    user1_data = data[user1]\n",
    "    user2_data = data[user2]\n",
    "    distance = 0\n",
    "    # 找到两位用户都评论过的电影，并计算欧式距离\n",
    "    for key in user1_data.keys():\n",
    "        if key in user2_data.keys():\n",
    "            # 注意，distance越大表示两者越相似\n",
    "            distance += pow(float(user1_data[key]) - float(user2_data[key]), 2)\n",
    "    return 1 / (1 + sqrt(distance))  # 这里返回值越大，相似度越大"
   ]
  },
  {
   "cell_type": "markdown",
   "metadata": {},
   "source": [
    "## 找到最相似的k个用户"
   ]
  },
  {
   "cell_type": "code",
   "execution_count": 4,
   "metadata": {
    "ExecuteTime": {
     "end_time": "2019-07-24T06:14:23.158104Z",
     "start_time": "2019-07-24T06:14:23.050172Z"
    }
   },
   "outputs": [],
   "source": [
    "def top10_similar(userID):\n",
    "    res = []\n",
    "    for userid in data.keys():\n",
    "        if not userid == userID :\n",
    "            sim = Euclidean(userID, userid)\n",
    "            res.append((userid, sim))\n",
    "    res.sort(key=lambda val: val[1], reverse=True)\n",
    "    return res[:10]"
   ]
  },
  {
   "cell_type": "code",
   "execution_count": 5,
   "metadata": {
    "ExecuteTime": {
     "end_time": "2019-07-24T06:14:23.290025Z",
     "start_time": "2019-07-24T06:14:23.161103Z"
    }
   },
   "outputs": [
    {
     "name": "stdout",
     "output_type": "stream",
     "text": [
      "[('userId', 1.0), ('3', 1.0), ('5', 1.0), ('9', 1.0), ('12', 1.0), ('14', 1.0), ('26', 1.0), ('27', 1.0), ('31', 1.0), ('35', 1.0)]\n"
     ]
    }
   ],
   "source": [
    "tops = top10_similar('1')\n",
    "print(tops)"
   ]
  },
  {
   "cell_type": "markdown",
   "metadata": {},
   "source": [
    "## 找到最相似的用户看过的电影"
   ]
  },
  {
   "cell_type": "code",
   "execution_count": 6,
   "metadata": {
    "ExecuteTime": {
     "end_time": "2019-07-24T06:14:23.413948Z",
     "start_time": "2019-07-24T06:14:23.293022Z"
    }
   },
   "outputs": [],
   "source": [
    "def recommend(user, k=5):\n",
    "    # print(data[user])\n",
    "    recomm = []\n",
    "    most_sim_user = top10_similar(user)\n",
    "    for sim_user in most_sim_user:\n",
    "        if not sim_user[0] == 'userId':\n",
    "            # print(sim_user[0])\n",
    "            items = data[sim_user[0]]\n",
    "            # print(items)\n",
    "            for item in items.keys():\n",
    "                # print(item)\n",
    "                if item not in data[user].keys():\n",
    "                    recomm.append((item, items[item]))\n",
    "    recomm.sort(key=lambda val: val[1], reverse=True)\n",
    "    return recomm[:k]"
   ]
  },
  {
   "cell_type": "code",
   "execution_count": 7,
   "metadata": {
    "ExecuteTime": {
     "end_time": "2019-07-24T06:14:23.615823Z",
     "start_time": "2019-07-24T06:14:23.419945Z"
    }
   },
   "outputs": [
    {
     "name": "stdout",
     "output_type": "stream",
     "text": [
      "[('\"Incredibles', '5.0'), ('Star Wars: Episode II - Attack of the Clones (2002)', '5.0'), ('\"Lord of the Rings: The Fellowship of the Ring', '5.0'), ('Harry Potter and the Chamber of Secrets (2002)', '5.0'), ('Spider-Man 2 (2004)', '5.0')]\n"
     ]
    }
   ],
   "source": [
    "RECOM = recommend('1')\n",
    "print(RECOM)"
   ]
  }
 ],
 "metadata": {
  "hide_input": false,
  "kernelspec": {
   "display_name": "Python 3",
   "language": "python",
   "name": "python3"
  },
  "language_info": {
   "codemirror_mode": {
    "name": "ipython",
    "version": 3
   },
   "file_extension": ".py",
   "mimetype": "text/x-python",
   "name": "python",
   "nbconvert_exporter": "python",
   "pygments_lexer": "ipython3",
   "version": "3.7.3"
  },
  "latex_envs": {
   "LaTeX_envs_menu_present": true,
   "autoclose": false,
   "autocomplete": true,
   "bibliofile": "biblio.bib",
   "cite_by": "apalike",
   "current_citInitial": 1,
   "eqLabelWithNumbers": true,
   "eqNumInitial": 1,
   "hotkeys": {
    "equation": "Ctrl-E",
    "itemize": "Ctrl-I"
   },
   "labels_anchors": false,
   "latex_user_defs": false,
   "report_style_numbering": false,
   "user_envs_cfg": false
  },
  "nbTranslate": {
   "displayLangs": [
    "*"
   ],
   "hotkey": "alt-t",
   "langInMainMenu": true,
   "sourceLang": "en",
   "targetLang": "fr",
   "useGoogleTranslate": true
  },
  "toc": {
   "base_numbering": 1,
   "nav_menu": {},
   "number_sections": true,
   "sideBar": true,
   "skip_h1_title": false,
   "title_cell": "Table of Contents",
   "title_sidebar": "Contents",
   "toc_cell": false,
   "toc_position": {},
   "toc_section_display": true,
   "toc_window_display": false
  },
  "varInspector": {
   "cols": {
    "lenName": 16,
    "lenType": 16,
    "lenVar": 40
   },
   "kernels_config": {
    "python": {
     "delete_cmd_postfix": "",
     "delete_cmd_prefix": "del ",
     "library": "var_list.py",
     "varRefreshCmd": "print(var_dic_list())"
    },
    "r": {
     "delete_cmd_postfix": ") ",
     "delete_cmd_prefix": "rm(",
     "library": "var_list.r",
     "varRefreshCmd": "cat(var_dic_list()) "
    }
   },
   "types_to_exclude": [
    "module",
    "function",
    "builtin_function_or_method",
    "instance",
    "_Feature"
   ],
   "window_display": false
  }
 },
 "nbformat": 4,
 "nbformat_minor": 2
}
